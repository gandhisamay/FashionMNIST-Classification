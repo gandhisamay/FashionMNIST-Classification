{
  "nbformat": 4,
  "nbformat_minor": 0,
  "metadata": {
    "colab": {
      "name": "Semantic Segmentation.ipynb",
      "provenance": [],
      "collapsed_sections": [],
      "mount_file_id": "1jCuFfDX_kYggZY38g-sYFmAI2FDgZMZN",
      "authorship_tag": "ABX9TyOa5UD0OVHw0tB+GjUHz4HJ",
      "include_colab_link": true
    },
    "kernelspec": {
      "name": "python3",
      "display_name": "Python 3"
    },
    "language_info": {
      "name": "python"
    },
    "accelerator": "GPU"
  },
  "cells": [
    {
      "cell_type": "markdown",
      "metadata": {
        "id": "view-in-github",
        "colab_type": "text"
      },
      "source": [
        "<a href=\"https://colab.research.google.com/github/gandhisamay/FashionMNIST-Classification/blob/main/Semantic_Segmentation.ipynb\" target=\"_parent\"><img src=\"https://colab.research.google.com/assets/colab-badge.svg\" alt=\"Open In Colab\"/></a>"
      ]
    },
    {
      "cell_type": "code",
      "metadata": {
        "colab": {
          "base_uri": "https://localhost:8080/"
        },
        "id": "J-tT27Daf6DP",
        "outputId": "0c4322bc-c38e-47c9-94c3-794753c1ffad"
      },
      "source": [
        "# memory footprint support libraries/code\n",
        "!ln -sf /opt/bin/nvidia-smi /usr/bin/nvidia-smi\n",
        "!pip install gputil\n",
        "!pip install psutil\n",
        "!pip install humanize\n",
        "import psutil\n",
        "import humanize\n",
        "import os\n",
        "import GPUtil as GPU\n",
        "GPUs = GPU.getGPUs()\n",
        "# XXX: only one GPU on Colab and isn’t guaranteed\n",
        "gpu = GPUs[0]\n",
        "def printm():\n",
        " process = psutil.Process(os.getpid())\n",
        " print(\"Gen RAM Free: \" + humanize.naturalsize( psutil.virtual_memory().available ), \" | Proc size: \" + humanize.naturalsize( process.memory_info().rss))\n",
        " print(\"GPU RAM Free: {0:.0f}MB | Used: {1:.0f}MB | Util {2:3.0f}% | Total {3:.0f}MB\".format(gpu.memoryFree, gpu.memoryUsed, gpu.memoryUtil*100, gpu.memoryTotal))\n",
        "printm()"
      ],
      "execution_count": 1,
      "outputs": [
        {
          "output_type": "stream",
          "text": [
            "Requirement already satisfied: gputil in /usr/local/lib/python3.7/dist-packages (1.4.0)\n",
            "Requirement already satisfied: psutil in /usr/local/lib/python3.7/dist-packages (5.4.8)\n",
            "Requirement already satisfied: humanize in /usr/local/lib/python3.7/dist-packages (0.5.1)\n",
            "Gen RAM Free: 12.7 GB  | Proc size: 118.8 MB\n",
            "GPU RAM Free: 15109MB | Used: 0MB | Util   0% | Total 15109MB\n"
          ],
          "name": "stdout"
        }
      ]
    },
    {
      "cell_type": "code",
      "metadata": {
        "colab": {
          "base_uri": "https://localhost:8080/"
        },
        "id": "T49EAMFNqCAn",
        "outputId": "9e48ffb6-8176-4741-de8a-682eafe9bf67"
      },
      "source": [
        "%cd '/content/drive/MyDrive/Datasets /'"
      ],
      "execution_count": 2,
      "outputs": [
        {
          "output_type": "stream",
          "text": [
            "/content/drive/MyDrive/Datasets \n"
          ],
          "name": "stdout"
        }
      ]
    },
    {
      "cell_type": "code",
      "metadata": {
        "id": "q14Tkf40gQkn"
      },
      "source": [
        "import numpy as np\n",
        "import matplotlib.pyplot as plt\n",
        "%matplotlib inline"
      ],
      "execution_count": 3,
      "outputs": []
    },
    {
      "cell_type": "code",
      "metadata": {
        "id": "XspWt1TngTES"
      },
      "source": [
        "import torch \n",
        "import torch.nn as nn \n",
        "from torch.utils.data import DataLoader,Dataset \n",
        "from torchvision import transforms \n",
        "from torchvision import datasets\n",
        "import torchvision.transforms.functional as TF\n",
        "import torch.nn.functional as F"
      ],
      "execution_count": 4,
      "outputs": []
    },
    {
      "cell_type": "code",
      "metadata": {
        "id": "NFQl2FI-RGlc"
      },
      "source": [
        "DEVICE = 'cuda' if torch.cuda.is_available() else 'cpu'\n",
        "LR = 1e-4"
      ],
      "execution_count": 5,
      "outputs": []
    },
    {
      "cell_type": "code",
      "metadata": {
        "id": "PX0aSJm3Qzlp"
      },
      "source": [
        "train_path = 'gtFine/train'\n",
        "val_path  = 'gtFine/test'"
      ],
      "execution_count": 6,
      "outputs": []
    },
    {
      "cell_type": "code",
      "metadata": {
        "id": "UmjC2_QzQ7CR"
      },
      "source": [
        "dataset = datasets.ImageFolder(train_path,transform=transforms.ToTensor())"
      ],
      "execution_count": 7,
      "outputs": []
    },
    {
      "cell_type": "code",
      "metadata": {
        "colab": {
          "base_uri": "https://localhost:8080/",
          "height": 292
        },
        "id": "HYWzYDVgpJK_",
        "outputId": "e5f3ccc6-8699-419c-957f-91b14af30a17"
      },
      "source": [
        "#Viewing the images \n",
        "fig = plt.figure(figsize=(32,16))\n",
        "rows = 1\n",
        "columns = 3\n",
        "\n",
        "fig.add_subplot(rows,columns,1)\n",
        "plt.imshow(dataset[0][0].permute(1,2,0))\n",
        "plt.axis('off')\n",
        "plt.title(\"Image\")\n",
        "\n",
        "fig.add_subplot(rows,columns,2)\n",
        "plt.imshow(dataset[1][0].permute(1,2,0))\n",
        "plt.axis('off')\n",
        "plt.title(\"Instance\")\n",
        "\n",
        "fig.add_subplot(rows,columns,3)\n",
        "plt.imshow(dataset[2][0].permute(1,2,0))\n",
        "plt.axis('off')\n",
        "plt.title(\"Label\")"
      ],
      "execution_count": 8,
      "outputs": [
        {
          "output_type": "execute_result",
          "data": {
            "text/plain": [
              "Text(0.5, 1.0, 'Label')"
            ]
          },
          "metadata": {
            "tags": []
          },
          "execution_count": 8
        },
        {
          "output_type": "display_data",
          "data": {
            "image/png": "[encoded data removed]",
            "text/plain": [
              "<Figure size 2304x1152 with 3 Axes>"
            ]
          },
          "metadata": {
            "tags": [],
            "needs_background": "light"
          }
        }
      ]
    },
    {
      "cell_type": "code",
      "metadata": {
        "id": "AleF9xGapPrc"
      },
      "source": [
        "#Making the dataset\n",
        "class CityScapeDataset(Dataset):\n",
        "    def __init__(self,path):\n",
        "        #Define the transforms\n",
        "        transform = transforms.Compose([\n",
        "          transforms.Resize((256,512)),\n",
        "          transforms.ToTensor()\n",
        "        ])\n",
        "        #Make the train and val datasets and apply the transforms\n",
        "        dataset = datasets.ImageFolder(path, transform = transform)\n",
        "        '''The dataset also contains the labels and instances but as seperate image'''\n",
        "        self.dataset = dataset\n",
        "        \n",
        "    def __getitem__(self,index):\n",
        "        img_input,_ = self.dataset[3*index]\n",
        "        \n",
        "        #Normalizing the input data\n",
        "        img_input = TF.normalize(img_input,mean=[0.485,0.456,0.406],std=[0.229,0.224,0.225])\n",
        "        \n",
        "        img_output,_ = self.dataset[3*index+2]\n",
        "        img_output = 255*img_output #This step is done so that our labels have integer values\n",
        "\n",
        "        #Create a boolean mask\n",
        "        mask = torch.tensor([[0,0],[1,1],[3,2],[4,3],[7,4],[8,5],[11,6],\n",
        "                             [17,7],[20,8],[21,9],[22,10],[23,11],[24,12],[25,13],[26,14],[33,15]])\n",
        "\n",
        "        #Apply a mask on the labels\n",
        "        img_output = img_output.view(-1)\n",
        "        img_output = img_output.to(torch.int64)\n",
        "        boolean_mask = (img_output == mask[:,:1])\n",
        "\n",
        "        for i in range(boolean_mask.shape[0]):\n",
        "          img_output[boolean_mask[i,:]] = mask[i,1]\n",
        "\n",
        "        img_output = img_output.view(3,256,512)\n",
        "\n",
        "        return img_input,img_output\n",
        "     \n",
        "    def __len__(self):\n",
        "        return int(len(self.dataset)/3) #Divided by 3 since it contains grayscale images and labels as well as seperate images"
      ],
      "execution_count": 9,
      "outputs": []
    },
    {
      "cell_type": "code",
      "metadata": {
        "id": "tsviFrM1pSPj"
      },
      "source": [
        "train_dataset = CityScapeDataset(train_path)\n",
        "test_dataset = CityScapeDataset(val_path)"
      ],
      "execution_count": 10,
      "outputs": []
    },
    {
      "cell_type": "code",
      "metadata": {
        "colab": {
          "base_uri": "https://localhost:8080/"
        },
        "id": "5cBJDu8ZpXq4",
        "outputId": "3ca2f987-2e7d-49c7-d312-87bfd1cb5373"
      },
      "source": [
        "len(train_dataset)"
      ],
      "execution_count": 11,
      "outputs": [
        {
          "output_type": "execute_result",
          "data": {
            "text/plain": [
              "2975"
            ]
          },
          "metadata": {
            "tags": []
          },
          "execution_count": 11
        }
      ]
    },
    {
      "cell_type": "code",
      "metadata": {
        "id": "7Ja5hiGnpgTG"
      },
      "source": [
        "#Make the data_loader now so that the data is ready for training\n",
        "batch_size = 32\n",
        "\n",
        "train_loader = DataLoader(train_dataset,batch_size)\n",
        "test_loader  = DataLoader(test_dataset,batch_size*2)"
      ],
      "execution_count": 12,
      "outputs": []
    },
    {
      "cell_type": "code",
      "metadata": {
        "id": "PuErt0Drplir"
      },
      "source": [
        "#Define the CNN block now\n",
        "#Defined as per the U-net Structure \n",
        "#Made some modifications too to the original structure\n",
        "class DoubleCNNBlock(nn.Module):\n",
        "    def __init__(self,in_channels,out_channels):\n",
        "        super().__init__()\n",
        "        self.conv1 = nn.Conv2d(\n",
        "            in_channels=in_channels,\n",
        "            out_channels=out_channels,\n",
        "            kernel_size=3,\n",
        "            padding=1,\n",
        "            stride=1,\n",
        "            bias=False\n",
        "        )\n",
        "        self.bn1 = nn.BatchNorm2d(\n",
        "            out_channels\n",
        "        )\n",
        "        self.act1 = nn.ReLU()\n",
        "        self.conv2 = nn.Conv2d(\n",
        "            in_channels=out_channels,\n",
        "            out_channels=out_channels,\n",
        "            kernel_size=3,\n",
        "            padding=1,\n",
        "            stride=1,\n",
        "            bias=False\n",
        "        )\n",
        "        self.bn2 = nn.BatchNorm2d(\n",
        "            out_channels\n",
        "        )\n",
        "        self.act2 = nn.ReLU() \n",
        "    def forward(self,x):\n",
        "        out = self.act1(self.bn1(self.conv1(x)))\n",
        "        out = self.act2(self.bn2(self.conv2(out)))\n",
        "        return out"
      ],
      "execution_count": 13,
      "outputs": []
    },
    {
      "cell_type": "code",
      "metadata": {
        "id": "bEQwg-BXpp07"
      },
      "source": [
        "class UpConv(nn.Module):\n",
        "    def __init__(self,in_channels,out_channels):\n",
        "        super().__init__()\n",
        "        self.tconv = nn.ConvTranspose2d(\n",
        "            in_channels=in_channels,\n",
        "            out_channels=out_channels,\n",
        "            kernel_size=2,\n",
        "            stride=2\n",
        "        ) \n",
        "\n",
        "    def forward(self,x,skip_connection):\n",
        "        out = self.tconv(x)\n",
        "        if out.shape != skip_connection.shape:\n",
        "            print(\"1\")\n",
        "            out = TF.resize(out ,size=skip_connection.shape[2:])\n",
        "        out = torch.cat([skip_connection,out],axis = 1)\n",
        "        return out"
      ],
      "execution_count": 14,
      "outputs": []
    },
    {
      "cell_type": "code",
      "metadata": {
        "id": "WS1Iy0WgpstB"
      },
      "source": [
        "class Bottom(nn.Module):\n",
        "    def __init__(self,channels_bottom=[512,1024]):\n",
        "        super().__init__()\n",
        "        self.channels_bottom = channels_bottom\n",
        "        self.conv1 = nn.Conv2d(\n",
        "            in_channels=512,\n",
        "            out_channels=1024,\n",
        "            kernel_size=3,\n",
        "            padding=1,\n",
        "            stride=1,\n",
        "            bias=False\n",
        "        )\n",
        "        self.bn1 = nn.BatchNorm2d(\n",
        "            self.channels_bottom[1]\n",
        "        )\n",
        "        self.act1 = nn.ReLU()\n",
        "        self.conv2 = nn.Conv2d(\n",
        "            in_channels=self.channels_bottom[1],\n",
        "            out_channels=self.channels_bottom[1],\n",
        "            kernel_size=3,\n",
        "            padding=1,\n",
        "            stride=1,\n",
        "            bias=False\n",
        "        )\n",
        "        self.bn2 = nn.BatchNorm2d(\n",
        "            self.channels_bottom[1]\n",
        "        )\n",
        "        self.act2 = nn.ReLU()\n",
        "        \n",
        "        self.bottom = nn.Sequential(\n",
        "            self.conv1,\n",
        "            self.bn1,\n",
        "            self.act1,\n",
        "            self.conv2,\n",
        "            self.bn2,\n",
        "            self.act2\n",
        "        )\n",
        "    def forward(self,x):\n",
        "#         out = self.act1(self.bn1(self.conv1(x)))\n",
        "#         print(\"1:{}\".format(out.shape))\n",
        "#         out = self.act2(self.bn2(self.conv2(out)))\n",
        "#         print(\"2:{}\".format(out.shape))\n",
        "        return self.bottom(x)"
      ],
      "execution_count": 15,
      "outputs": []
    },
    {
      "cell_type": "code",
      "metadata": {
        "id": "ZqSHIcWmpvk_"
      },
      "source": [
        "class Unet(nn.Module):\n",
        "    def __init__(self,num_classes,filters=[64,128,256,512],input_channels=3):\n",
        "        super().__init__()\n",
        "        self.contract = nn.ModuleList()\n",
        "        self.expand   = nn.ModuleList()                      #64 - #128 - #256 - #512 - #1024 -#512\n",
        "        self.filters  = filters\n",
        "        self.input_channels = input_channels\n",
        "        self.num_classes = num_classes \n",
        "        \n",
        "        self.pool = nn.MaxPool2d(\n",
        "            kernel_size=2,\n",
        "            stride=2\n",
        "        )\n",
        "        \n",
        "        for filters in self.filters:\n",
        "            self.contract.append(\n",
        "                DoubleCNNBlock(\n",
        "                    in_channels=input_channels,\n",
        "                    out_channels=filters\n",
        "                )\n",
        "            )\n",
        "            input_channels = filters\n",
        "            \n",
        "        for filters in reversed(self.filters):\n",
        "            self.expand.append(\n",
        "                UpConv(\n",
        "                    in_channels=filters*2,\n",
        "                    out_channels=filters\n",
        "                )\n",
        "            )\n",
        "            self.expand.append(\n",
        "                DoubleCNNBlock(\n",
        "                    in_channels=filters*2,\n",
        "                    out_channels=filters\n",
        "                )\n",
        "            )\n",
        "            \n",
        "        self.final = nn.Conv2d(\n",
        "                    in_channels=self.filters[0],\n",
        "                    out_channels=num_classes,\n",
        "                    kernel_size=3,\n",
        "                    padding=1,\n",
        "                    stride=1\n",
        "                    )\n",
        "            \n",
        "    def forward(self,x):\n",
        "        skip_connections = []\n",
        "        \n",
        "        for downs in self.contract:\n",
        "            out = downs(x)\n",
        "            skip_connections.append(out)\n",
        "            out   = self.pool(out)\n",
        "            x = out\n",
        "        \n",
        "        bottom = Bottom()\n",
        "        bottom.to(DEVICE)\n",
        "        y = bottom(x)\n",
        "        \n",
        "        for idx in range(0,len(self.expand),2):\n",
        "            skip_connection = skip_connections[len(skip_connections)-idx//2-1]\n",
        "            y = self.expand[idx](y,skip_connection)\n",
        "            y = self.expand[idx+1](y)\n",
        "            \n",
        "        return self.final(y)"
      ],
      "execution_count": 16,
      "outputs": []
    },
    {
      "cell_type": "code",
      "metadata": {
        "colab": {
          "base_uri": "https://localhost:8080/"
        },
        "id": "_XIipuU9pyzS",
        "outputId": "70fc11f8-adfb-4ea5-d3d9-30f872148793"
      },
      "source": [
        "model = Unet(num_classes=16)\n",
        "model.to(DEVICE)"
      ],
      "execution_count": 17,
      "outputs": [
        {
          "output_type": "execute_result",
          "data": {
            "text/plain": [
              "Unet(\n",
              "  (contract): ModuleList(\n",
              "    (0): DoubleCNNBlock(\n",
              "      (conv1): Conv2d(3, 64, kernel_size=(3, 3), stride=(1, 1), padding=(1, 1), bias=False)\n",
              "      (bn1): BatchNorm2d(64, eps=1e-05, momentum=0.1, affine=True, track_running_stats=True)\n",
              "      (act1): ReLU()\n",
              "      (conv2): Conv2d(64, 64, kernel_size=(3, 3), stride=(1, 1), padding=(1, 1), bias=False)\n",
              "      (bn2): BatchNorm2d(64, eps=1e-05, momentum=0.1, affine=True, track_running_stats=True)\n",
              "      (act2): ReLU()\n",
              "    )\n",
              "    (1): DoubleCNNBlock(\n",
              "      (conv1): Conv2d(64, 128, kernel_size=(3, 3), stride=(1, 1), padding=(1, 1), bias=False)\n",
              "      (bn1): BatchNorm2d(128, eps=1e-05, momentum=0.1, affine=True, track_running_stats=True)\n",
              "      (act1): ReLU()\n",
              "      (conv2): Conv2d(128, 128, kernel_size=(3, 3), stride=(1, 1), padding=(1, 1), bias=False)\n",
              "      (bn2): BatchNorm2d(128, eps=1e-05, momentum=0.1, affine=True, track_running_stats=True)\n",
              "      (act2): ReLU()\n",
              "    )\n",
              "    (2): DoubleCNNBlock(\n",
              "      (conv1): Conv2d(128, 256, kernel_size=(3, 3), stride=(1, 1), padding=(1, 1), bias=False)\n",
              "      (bn1): BatchNorm2d(256, eps=1e-05, momentum=0.1, affine=True, track_running_stats=True)\n",
              "      (act1): ReLU()\n",
              "      (conv2): Conv2d(256, 256, kernel_size=(3, 3), stride=(1, 1), padding=(1, 1), bias=False)\n",
              "      (bn2): BatchNorm2d(256, eps=1e-05, momentum=0.1, affine=True, track_running_stats=True)\n",
              "      (act2): ReLU()\n",
              "    )\n",
              "    (3): DoubleCNNBlock(\n",
              "      (conv1): Conv2d(256, 512, kernel_size=(3, 3), stride=(1, 1), padding=(1, 1), bias=False)\n",
              "      (bn1): BatchNorm2d(512, eps=1e-05, momentum=0.1, affine=True, track_running_stats=True)\n",
              "      (act1): ReLU()\n",
              "      (conv2): Conv2d(512, 512, kernel_size=(3, 3), stride=(1, 1), padding=(1, 1), bias=False)\n",
              "      (bn2): BatchNorm2d(512, eps=1e-05, momentum=0.1, affine=True, track_running_stats=True)\n",
              "      (act2): ReLU()\n",
              "    )\n",
              "  )\n",
              "  (expand): ModuleList(\n",
              "    (0): UpConv(\n",
              "      (tconv): ConvTranspose2d(1024, 512, kernel_size=(2, 2), stride=(2, 2))\n",
              "    )\n",
              "    (1): DoubleCNNBlock(\n",
              "      (conv1): Conv2d(1024, 512, kernel_size=(3, 3), stride=(1, 1), padding=(1, 1), bias=False)\n",
              "      (bn1): BatchNorm2d(512, eps=1e-05, momentum=0.1, affine=True, track_running_stats=True)\n",
              "      (act1): ReLU()\n",
              "      (conv2): Conv2d(512, 512, kernel_size=(3, 3), stride=(1, 1), padding=(1, 1), bias=False)\n",
              "      (bn2): BatchNorm2d(512, eps=1e-05, momentum=0.1, affine=True, track_running_stats=True)\n",
              "      (act2): ReLU()\n",
              "    )\n",
              "    (2): UpConv(\n",
              "      (tconv): ConvTranspose2d(512, 256, kernel_size=(2, 2), stride=(2, 2))\n",
              "    )\n",
              "    (3): DoubleCNNBlock(\n",
              "      (conv1): Conv2d(512, 256, kernel_size=(3, 3), stride=(1, 1), padding=(1, 1), bias=False)\n",
              "      (bn1): BatchNorm2d(256, eps=1e-05, momentum=0.1, affine=True, track_running_stats=True)\n",
              "      (act1): ReLU()\n",
              "      (conv2): Conv2d(256, 256, kernel_size=(3, 3), stride=(1, 1), padding=(1, 1), bias=False)\n",
              "      (bn2): BatchNorm2d(256, eps=1e-05, momentum=0.1, affine=True, track_running_stats=True)\n",
              "      (act2): ReLU()\n",
              "    )\n",
              "    (4): UpConv(\n",
              "      (tconv): ConvTranspose2d(256, 128, kernel_size=(2, 2), stride=(2, 2))\n",
              "    )\n",
              "    (5): DoubleCNNBlock(\n",
              "      (conv1): Conv2d(256, 128, kernel_size=(3, 3), stride=(1, 1), padding=(1, 1), bias=False)\n",
              "      (bn1): BatchNorm2d(128, eps=1e-05, momentum=0.1, affine=True, track_running_stats=True)\n",
              "      (act1): ReLU()\n",
              "      (conv2): Conv2d(128, 128, kernel_size=(3, 3), stride=(1, 1), padding=(1, 1), bias=False)\n",
              "      (bn2): BatchNorm2d(128, eps=1e-05, momentum=0.1, affine=True, track_running_stats=True)\n",
              "      (act2): ReLU()\n",
              "    )\n",
              "    (6): UpConv(\n",
              "      (tconv): ConvTranspose2d(128, 64, kernel_size=(2, 2), stride=(2, 2))\n",
              "    )\n",
              "    (7): DoubleCNNBlock(\n",
              "      (conv1): Conv2d(128, 64, kernel_size=(3, 3), stride=(1, 1), padding=(1, 1), bias=False)\n",
              "      (bn1): BatchNorm2d(64, eps=1e-05, momentum=0.1, affine=True, track_running_stats=True)\n",
              "      (act1): ReLU()\n",
              "      (conv2): Conv2d(64, 64, kernel_size=(3, 3), stride=(1, 1), padding=(1, 1), bias=False)\n",
              "      (bn2): BatchNorm2d(64, eps=1e-05, momentum=0.1, affine=True, track_running_stats=True)\n",
              "      (act2): ReLU()\n",
              "    )\n",
              "  )\n",
              "  (pool): MaxPool2d(kernel_size=2, stride=2, padding=0, dilation=1, ceil_mode=False)\n",
              "  (final): Conv2d(64, 16, kernel_size=(3, 3), stride=(1, 1), padding=(1, 1))\n",
              ")"
            ]
          },
          "metadata": {
            "tags": []
          },
          "execution_count": 17
        }
      ]
    },
    {
      "cell_type": "code",
      "metadata": {
        "id": "_tCGZOVNglUf"
      },
      "source": [
        "def DICEloss(preds,outputs,smooth=1):\n",
        "  preds = F.softmax(preds,dim=1)\n",
        "  zeros = torch.full_like(preds,0)\n",
        "  one_hot = zeros.scatter(1,outputs,1)\n",
        "\n",
        "  intersection = preds*one_hot\n",
        "\n",
        "  one_hot_area = torch.sum(one_hot*one_hot)\n",
        "  preds_area   = torch.sum(preds*preds)\n",
        "\n",
        "  return 1 - ((2. * intersection + smooth)/(one_hot_area + preds_area + smooth) )"
      ],
      "execution_count": 30,
      "outputs": []
    },
    {
      "cell_type": "code",
      "metadata": {
        "id": "K5N2qYCI9pys"
      },
      "source": [
        "opt  = torch.optim.Adam(model.parameters(),lr = LR)"
      ],
      "execution_count": 31,
      "outputs": []
    },
    {
      "cell_type": "code",
      "metadata": {
        "colab": {
          "base_uri": "https://localhost:8080/"
        },
        "id": "pG0e3clffHDt",
        "outputId": "0ce99252-e52c-4b7a-e2dd-bcba5c3e934c"
      },
      "source": [
        "!nvidia-smi"
      ],
      "execution_count": 32,
      "outputs": [
        {
          "output_type": "stream",
          "text": [
            "Sun May 23 14:17:51 2021       \n",
            "+-----------------------------------------------------------------------------+\n",
            "| NVIDIA-SMI 460.32.03    Driver Version: 460.32.03    CUDA Version: 11.2     |\n",
            "|-------------------------------+----------------------+----------------------+\n",
            "| GPU  Name        Persistence-M| Bus-Id        Disp.A | Volatile Uncorr. ECC |\n",
            "| Fan  Temp  Perf  Pwr:Usage/Cap|         Memory-Usage | GPU-Util  Compute M. |\n",
            "|                               |                      |               MIG M. |\n",
            "|===============================+======================+======================|\n",
            "|   0  Tesla T4            Off  | 00000000:00:04.0 Off |                    0 |\n",
            "| N/A   45C    P0    26W /  70W |   4854MiB / 15109MiB |      0%      Default |\n",
            "|                               |                      |                  N/A |\n",
            "+-------------------------------+----------------------+----------------------+\n",
            "                                                                               \n",
            "+-----------------------------------------------------------------------------+\n",
            "| Processes:                                                                  |\n",
            "|  GPU   GI   CI        PID   Type   Process name                  GPU Memory |\n",
            "|        ID   ID                                                   Usage      |\n",
            "|=============================================================================|\n",
            "+-----------------------------------------------------------------------------+\n"
          ],
          "name": "stdout"
        }
      ]
    },
    {
      "cell_type": "code",
      "metadata": {
        "id": "2V8jXRpCrK60"
      },
      "source": [
        "#Training the model\n",
        "import time \n",
        "model.train()\n",
        "\n",
        "num_epochs = 100\n",
        "loss_per_iteration = []\n",
        "iters = []\n",
        "\n",
        "for epochs in range(num_epochs):\n",
        "  tic = time.time()\n",
        "\n",
        "  loss_per_epoch = 0.0\n",
        "\n",
        "  for inputs,outputs in train_loader:\n",
        "    inputs,outputs = inputs.to(DEVICE),outputs.to(DEVICE)\n",
        "    preds = model(inputs)\n",
        "    loss  = DICEloss(preds,outputs)\n",
        "    loss.backward()\n",
        "    opt.step()\n",
        "    opt.zero_grad()\n",
        "    loss_per_epoch += loss\n",
        "    iters.append(epochs)\n",
        "  \n",
        "  toc = time.time()\n",
        "  \n",
        "  print(\"[{}/{}] Loss : {} Time Taken : {}\".format(epochs,num_epochs,loss_per_epoch,(toc - tic)/1000))"
      ],
      "execution_count": null,
      "outputs": []
    }
  ]
}