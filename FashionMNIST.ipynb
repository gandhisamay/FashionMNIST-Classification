{
  "nbformat": 4,
  "nbformat_minor": 0,
  "metadata": {
    "colab": {
      "name": "FashionMNIST.ipynb",
      "provenance": [],
      "collapsed_sections": []
    },
    "kernelspec": {
      "name": "python3",
      "display_name": "Python 3"
    },
    "language_info": {
      "name": "python"
    },
    "accelerator": "GPU"
  },
  "cells": [
    {
      "cell_type": "code",
      "metadata": {
        "id": "C6Fc2EdfLDQp",
        "colab": {
          "base_uri": "https://localhost:8080/"
        },
        "outputId": "1cc1a1dc-a029-43a7-aa62-ceb038ce5489"
      },
      "source": [
        "from google.colab import drive \n",
        "drive.mount('drive')"
      ],
      "execution_count": null,
      "outputs": [
        {
          "output_type": "stream",
          "text": [
            "Mounted at drive\n"
          ],
          "name": "stdout"
        }
      ]
    },
    {
      "cell_type": "code",
      "metadata": {
        "id": "Ql6Xj4rBLIEq"
      },
      "source": [
        "import torch\n",
        "import torch.nn as nn \n",
        "import matplotlib.pyplot as plt"
      ],
      "execution_count": null,
      "outputs": []
    },
    {
      "cell_type": "code",
      "metadata": {
        "id": "JiKEKErKZVK8"
      },
      "source": [
        "from torchvision import transforms\n",
        "transform = transforms.Compose([transforms.ToTensor(),\n",
        "                                 transforms.Normalize(0.5,0.5)])"
      ],
      "execution_count": null,
      "outputs": []
    },
    {
      "cell_type": "code",
      "metadata": {
        "id": "8CWU300pY3dh"
      },
      "source": [
        "from torchvision import datasets\n",
        "\n",
        "data_path = '/content/drive/MyDrive/Datasets '\n",
        "train_dataset = datasets.FashionMNIST(data_path , download = False,train = True,transform = transform)\n",
        "test_dataset = datasets.FashionMNIST(data_path , download = False, train = False,transform = transform)"
      ],
      "execution_count": null,
      "outputs": []
    },
    {
      "cell_type": "code",
      "metadata": {
        "colab": {
          "base_uri": "https://localhost:8080/",
          "height": 314
        },
        "id": "9iiN5CjZjYfS",
        "outputId": "3eadf36d-f710-45f0-e9ac-b22308c96911"
      },
      "source": [
        "#-----Viewing Image-----#\n",
        "imgs = next(iter(train_dataset))\n",
        "plt.axis('off')\n",
        "plt.title('Fashion MNIST')\n",
        "plt.tight_layout()\n",
        "plt.imshow(imgs[0][0], cmap ='gray')"
      ],
      "execution_count": null,
      "outputs": [
        {
          "output_type": "execute_result",
          "data": {
            "text/plain": [
              "<matplotlib.image.AxesImage at 0x7f169c63ba90>"
            ]
          },
          "metadata": {
            "tags": []
          },
          "execution_count": 4
        },
        {
          "output_type": "display_data",
          "data": {
            "image/png": "[encoded data removed]",
            "text/plain": [
              "<Figure size 432x288 with 1 Axes>"
            ]
          },
          "metadata": {
            "tags": [],
            "needs_background": "light"
          }
        }
      ]
    },
    {
      "cell_type": "code",
      "metadata": {
        "id": "07bITOEFZmUf"
      },
      "source": [
        "from torch.utils.data import DataLoader\n",
        "batch_size = 128 \n",
        "train_loader = DataLoader(train_dataset,batch_size)\n",
        "test_loader = DataLoader(test_dataset, batch_size*2)"
      ],
      "execution_count": 30,
      "outputs": []
    },
    {
      "cell_type": "code",
      "metadata": {
        "id": "fVLc4_FsaRif"
      },
      "source": [
        "class Classifier(nn.Module):\n",
        "  def __init__(self,input_channels,numchannelslayer1, numchannelslayer2,imgheight,imgwidth,fclayer1size,fclayer2size):\n",
        "    '''input_channels : Number of channels in input images\n",
        "       numchannelslayer1 : Number of channels after passing through first Convulation layer\n",
        "       numchannelslayer1 : Number of channels after passing through second Convulation layer\n",
        "       imgheight : Height of input image \n",
        "       imgwidth  : Width of input image \n",
        "       fclayer1size : Layer size of the first fully connected layer\n",
        "       fclayer2size : Layer size of the second fully connected layer'''\n",
        "\n",
        "    super().__init__()\n",
        "    self.input_channels = input_channels\n",
        "    self.numchannelslayer1 = numchannelslayer1\n",
        "    self.numchannelslayer2 = numchannelslayer2\n",
        "    self.height = imgheight\n",
        "    self.width  = imgwidth\n",
        "    self.fclayer1size = fclayer1size\n",
        "    self.fclayer2size = fclayer2size\n",
        "\n",
        "    self.conv1 = nn.Conv2d(self.input_channels,self.numchannelslayer1,kernel_size = 3, padding = 1)\n",
        "    self.pool1 = nn.MaxPool2d(2)\n",
        "    self.act1  = nn.ReLU()\n",
        "\n",
        "    self.conv2 = nn.Conv2d(self.numchannelslayer1, self.numchannelslayer2, kernel_size = 3, padding = 1)\n",
        "    self.pool2 = nn.MaxPool2d(2)\n",
        "    self.act2  = nn.ReLU()\n",
        "     \n",
        "    self.height1 = int(self.height/4)\n",
        "    self.width1 = int(self.width/4)\n",
        "\n",
        "    self.fc1   = nn.Linear(self.numchannelslayer2*self.height1*self.width1,self.fclayer1size)\n",
        "    self.act3  = nn.ReLU()\n",
        "\n",
        "    self.fc2   = nn.Linear(self.fclayer1size, self.fclayer2size)\n",
        "    self.act4  = nn.Tanh()\n",
        "\n",
        "  def forward(self,x):\n",
        "    out = self.act1(self.pool1(self.conv1(x)))\n",
        "    out = self.act2(self.pool2(self.conv2(out)))\n",
        "    out = out.view(-1,self.numchannelslayer2*self.height1*self.width1)\n",
        "    out = self.act3(self.fc1(out))\n",
        "    out = self.act4(self.fc2(out))\n",
        "    return out\n",
        "\n",
        "  def CorrectPredictions(self,out,y):\n",
        "    labels = torch.argmax(out,axis = 1)\n",
        "    correct = (labels == y).sum()\n",
        "    return correct"
      ],
      "execution_count": 40,
      "outputs": []
    },
    {
      "cell_type": "code",
      "metadata": {
        "colab": {
          "base_uri": "https://localhost:8080/"
        },
        "id": "L_-y9s9zdtPC",
        "outputId": "e1317976-26e1-4cf8-8c5d-3ab686455002"
      },
      "source": [
        "model = Classifier(input_channels = 1 ,numchannelslayer1 = 16, numchannelslayer2 = 32,imgheight = 28,imgwidth = 28,fclayer1size = 256,fclayer2size = 10)\n",
        "model.to('cuda')"
      ],
      "execution_count": 49,
      "outputs": [
        {
          "output_type": "execute_result",
          "data": {
            "text/plain": [
              "Classifier(\n",
              "  (conv1): Conv2d(1, 16, kernel_size=(3, 3), stride=(1, 1), padding=(1, 1))\n",
              "  (pool1): MaxPool2d(kernel_size=2, stride=2, padding=0, dilation=1, ceil_mode=False)\n",
              "  (act1): ReLU()\n",
              "  (conv2): Conv2d(16, 32, kernel_size=(3, 3), stride=(1, 1), padding=(1, 1))\n",
              "  (pool2): MaxPool2d(kernel_size=2, stride=2, padding=0, dilation=1, ceil_mode=False)\n",
              "  (act2): ReLU()\n",
              "  (fc1): Linear(in_features=1568, out_features=256, bias=True)\n",
              "  (act3): ReLU()\n",
              "  (fc2): Linear(in_features=256, out_features=10, bias=True)\n",
              "  (act4): Tanh()\n",
              ")"
            ]
          },
          "metadata": {
            "tags": []
          },
          "execution_count": 49
        }
      ]
    },
    {
      "cell_type": "code",
      "metadata": {
        "id": "IMk0cwo4eGjL"
      },
      "source": [
        "loss_fn = nn.CrossEntropyLoss()\n",
        "opt = torch.optim.SGD(model.parameters(), lr = 1e-1)"
      ],
      "execution_count": 55,
      "outputs": []
    },
    {
      "cell_type": "code",
      "metadata": {
        "id": "F8aCjmhteqj_",
        "colab": {
          "base_uri": "https://localhost:8080/"
        },
        "outputId": "b1704b7d-ee7a-4514-adc7-66f60becf8ef"
      },
      "source": [
        "num_epochs = 50\n",
        "iters = [i for i in range(num_epochs)]\n",
        "lossperepoch = []\n",
        "model.train()\n",
        "for epochs in range(1,num_epochs+1):\n",
        "  loss_total = 0.0\n",
        "  correct_total = 0\n",
        "  for imgs,labels in train_loader:\n",
        "    imgs,labels = imgs.to('cuda'),labels.to('cuda')\n",
        "    outputs = model(imgs)\n",
        "\n",
        "    loss = loss_fn(outputs,labels)\n",
        "\n",
        "    loss.backward()\n",
        "\n",
        "    opt.step()\n",
        "    opt.zero_grad()\n",
        "\n",
        "    loss_total += loss\n",
        "\n",
        "    correct = model.CorrectPredictions(outputs,labels)\n",
        "    correct_total += correct\n",
        "\n",
        "  lossperepoch.append(loss_total)\n",
        "\n",
        "  print(\"[{}/{}] Accuracy: {}%\".format(epochs,num_epochs,float(correct_total/len(train_dataset)*100)))"
      ],
      "execution_count": 56,
      "outputs": [
        {
          "output_type": "stream",
          "text": [
            "[1/50] Accuracy: 84.01333618164062%\n",
            "[2/50] Accuracy: 87.961669921875%\n",
            "[3/50] Accuracy: 88.64167022705078%\n",
            "[4/50] Accuracy: 89.19166564941406%\n",
            "[5/50] Accuracy: 89.5683364868164%\n",
            "[6/50] Accuracy: 89.93333435058594%\n",
            "[7/50] Accuracy: 90.14666748046875%\n",
            "[8/50] Accuracy: 90.43833923339844%\n",
            "[9/50] Accuracy: 90.69166564941406%\n",
            "[10/50] Accuracy: 90.8699951171875%\n",
            "[11/50] Accuracy: 90.96333312988281%\n",
            "[12/50] Accuracy: 91.12333679199219%\n",
            "[13/50] Accuracy: 91.24333190917969%\n",
            "[14/50] Accuracy: 91.37333679199219%\n",
            "[15/50] Accuracy: 91.57333374023438%\n",
            "[16/50] Accuracy: 91.67166900634766%\n",
            "[17/50] Accuracy: 91.79833221435547%\n",
            "[18/50] Accuracy: 92.09667205810547%\n",
            "[19/50] Accuracy: 92.0183334350586%\n",
            "[20/50] Accuracy: 92.1050033569336%\n",
            "[21/50] Accuracy: 92.32666778564453%\n",
            "[22/50] Accuracy: 92.35166931152344%\n",
            "[23/50] Accuracy: 92.586669921875%\n",
            "[24/50] Accuracy: 92.63999938964844%\n",
            "[25/50] Accuracy: 92.8116683959961%\n",
            "[26/50] Accuracy: 92.76666259765625%\n",
            "[27/50] Accuracy: 92.86500549316406%\n",
            "[28/50] Accuracy: 92.96500396728516%\n",
            "[29/50] Accuracy: 93.038330078125%\n",
            "[30/50] Accuracy: 93.08333587646484%\n",
            "[31/50] Accuracy: 93.33000183105469%\n",
            "[32/50] Accuracy: 93.27666473388672%\n",
            "[33/50] Accuracy: 93.39500427246094%\n",
            "[34/50] Accuracy: 93.43000030517578%\n",
            "[35/50] Accuracy: 93.56999969482422%\n",
            "[36/50] Accuracy: 93.61000061035156%\n",
            "[37/50] Accuracy: 93.66666412353516%\n",
            "[38/50] Accuracy: 93.78166961669922%\n",
            "[39/50] Accuracy: 93.77833557128906%\n",
            "[40/50] Accuracy: 93.9416732788086%\n",
            "[41/50] Accuracy: 93.98666381835938%\n",
            "[42/50] Accuracy: 94.09833526611328%\n",
            "[43/50] Accuracy: 94.0250015258789%\n",
            "[44/50] Accuracy: 94.16000366210938%\n",
            "[45/50] Accuracy: 94.2933349609375%\n",
            "[46/50] Accuracy: 94.20500183105469%\n",
            "[47/50] Accuracy: 94.28166961669922%\n",
            "[48/50] Accuracy: 94.38333129882812%\n",
            "[49/50] Accuracy: 94.4416732788086%\n",
            "[50/50] Accuracy: 94.61000061035156%\n"
          ],
          "name": "stdout"
        }
      ]
    },
    {
      "cell_type": "code",
      "metadata": {
        "colab": {
          "base_uri": "https://localhost:8080/",
          "height": 314
        },
        "id": "kWEKuQNFoQLq",
        "outputId": "012ed2b8-e2df-4026-c9df-842a9e2cef69"
      },
      "source": [
        "#-----Graph between loss and epochs----#\n",
        "plt.title('Loss with iterations')\n",
        "plt.xlabel('Iterations')\n",
        "plt.ylabel('Loss')\n",
        "plt.style.use('seaborn')\n",
        "plt.tight_layout()\n",
        "plt.plot(lossperepoch,iters)"
      ],
      "execution_count": 57,
      "outputs": [
        {
          "output_type": "execute_result",
          "data": {
            "text/plain": [
              "[<matplotlib.lines.Line2D at 0x7f1686420ad0>]"
            ]
          },
          "metadata": {
            "tags": []
          },
          "execution_count": 57
        },
        {
          "output_type": "display_data",
          "data": {
            "image/png": "[encoded data removed]",
            "text/plain": [
              "<Figure size 432x288 with 1 Axes>"
            ]
          },
          "metadata": {
            "tags": [],
            "needs_background": "light"
          }
        }
      ]
    },
    {
      "cell_type": "code",
      "metadata": {
        "colab": {
          "base_uri": "https://localhost:8080/"
        },
        "id": "NfF-bkquDOUg",
        "outputId": "c938729f-cc34-4c49-c4ae-9aff9288a149"
      },
      "source": [
        "model.eval()\n",
        "\n",
        "#Checking model performance on test set\n",
        "correct_total_test = 0 \n",
        "total = 0 \n",
        "\n",
        "for imgs, labels in test_loader:\n",
        "  imgs , labels = imgs.to('cuda'),labels.to('cuda')\n",
        "  test_outputs = model(imgs)\n",
        "  correct_test = (torch.argmax(test_outputs, axis = 1) == labels).sum()\n",
        "  correct_total_test += correct_test\n",
        "  total += labels.shape[0]\n",
        "print('Accuracy : {}%'.format(float(correct_total_test/total)*100))"
      ],
      "execution_count": 60,
      "outputs": [
        {
          "output_type": "stream",
          "text": [
            "Accuracy : 91.09999537467957%\n"
          ],
          "name": "stdout"
        }
      ]
    },
    {
      "cell_type": "markdown",
      "metadata": {
        "id": "7YT9z14RGdAA"
      },
      "source": [
        "Training set accuaracy : 94.61 %\n",
        "Test set accuracy : 91.09 %"
      ]
    }
  ]
}